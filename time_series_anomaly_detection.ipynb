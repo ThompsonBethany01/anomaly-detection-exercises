{
 "cells": [
  {
   "cell_type": "code",
   "execution_count": 1,
   "metadata": {},
   "outputs": [],
   "source": [
    "import numpy as np\n",
    "import pandas as pd\n",
    "import math\n",
    "from sklearn import metrics\n",
    "\n",
    "from scipy.stats import entropy\n",
    "\n",
    "import warnings\n",
    "warnings.filterwarnings(\"ignore\")\n",
    "import matplotlib.pyplot as plt\n",
    "import matplotlib.dates as mdates #to format dates on our plots\n",
    "%matplotlib inline\n",
    "import seaborn as sns\n",
    "\n",
    "# This is to make sure matplotlib doesn't throw the following error:\n",
    "# The next line fixes \"TypeError: float() argument must be a string or a number, not 'Timestamp' matplotlib\"\n",
    "pd.plotting.register_matplotlib_converters()"
   ]
  },
  {
   "cell_type": "code",
   "execution_count": 2,
   "metadata": {},
   "outputs": [],
   "source": [
    "df = pd.read_csv('anonymized-curriculum-access.txt',\n",
    "                      engine='python',\n",
    "                     header=None,\n",
    "                     index_col=False,\n",
    "                     sep=r'\\s(?=(?:[^\"]*\"[^\"]*\")*[^\"]*$)(?![^\\[]*\\])',\n",
    "                     na_values='\"-\"',\n",
    "                     )"
   ]
  },
  {
   "cell_type": "code",
   "execution_count": 3,
   "metadata": {},
   "outputs": [],
   "source": [
    "df.columns = ['date','time','page_viewed','user_id','cohort_id','ip']"
   ]
  },
  {
   "cell_type": "code",
   "execution_count": 4,
   "metadata": {},
   "outputs": [],
   "source": [
    "df.index = pd.to_datetime(df.date + \" \" + df.time)"
   ]
  },
  {
   "cell_type": "code",
   "execution_count": 5,
   "metadata": {},
   "outputs": [],
   "source": [
    "df = df.drop(columns=['date','time'], axis=1)"
   ]
  },
  {
   "cell_type": "code",
   "execution_count": 6,
   "metadata": {},
   "outputs": [
    {
     "data": {
      "text/html": [
       "<div>\n",
       "<style scoped>\n",
       "    .dataframe tbody tr th:only-of-type {\n",
       "        vertical-align: middle;\n",
       "    }\n",
       "\n",
       "    .dataframe tbody tr th {\n",
       "        vertical-align: top;\n",
       "    }\n",
       "\n",
       "    .dataframe thead th {\n",
       "        text-align: right;\n",
       "    }\n",
       "</style>\n",
       "<table border=\"1\" class=\"dataframe\">\n",
       "  <thead>\n",
       "    <tr style=\"text-align: right;\">\n",
       "      <th></th>\n",
       "      <th>page_viewed</th>\n",
       "      <th>user_id</th>\n",
       "      <th>cohort_id</th>\n",
       "      <th>ip</th>\n",
       "    </tr>\n",
       "  </thead>\n",
       "  <tbody>\n",
       "    <tr>\n",
       "      <th>2018-01-26 09:55:03</th>\n",
       "      <td>/</td>\n",
       "      <td>1</td>\n",
       "      <td>8.0</td>\n",
       "      <td>97.105.19.61</td>\n",
       "    </tr>\n",
       "    <tr>\n",
       "      <th>2018-01-26 09:56:02</th>\n",
       "      <td>java-ii</td>\n",
       "      <td>1</td>\n",
       "      <td>8.0</td>\n",
       "      <td>97.105.19.61</td>\n",
       "    </tr>\n",
       "    <tr>\n",
       "      <th>2018-01-26 09:56:05</th>\n",
       "      <td>java-ii/object-oriented-programming</td>\n",
       "      <td>1</td>\n",
       "      <td>8.0</td>\n",
       "      <td>97.105.19.61</td>\n",
       "    </tr>\n",
       "    <tr>\n",
       "      <th>2018-01-26 09:56:06</th>\n",
       "      <td>slides/object_oriented_programming</td>\n",
       "      <td>1</td>\n",
       "      <td>8.0</td>\n",
       "      <td>97.105.19.61</td>\n",
       "    </tr>\n",
       "    <tr>\n",
       "      <th>2018-01-26 09:56:24</th>\n",
       "      <td>javascript-i/conditionals</td>\n",
       "      <td>2</td>\n",
       "      <td>22.0</td>\n",
       "      <td>97.105.19.61</td>\n",
       "    </tr>\n",
       "    <tr>\n",
       "      <th>...</th>\n",
       "      <td>...</td>\n",
       "      <td>...</td>\n",
       "      <td>...</td>\n",
       "      <td>...</td>\n",
       "    </tr>\n",
       "    <tr>\n",
       "      <th>2020-11-02 16:48:13</th>\n",
       "      <td>javascript-i/coffee-project</td>\n",
       "      <td>763</td>\n",
       "      <td>62.0</td>\n",
       "      <td>107.192.148.199</td>\n",
       "    </tr>\n",
       "    <tr>\n",
       "      <th>2020-11-02 16:48:17</th>\n",
       "      <td>javascript-i/mapbox-api</td>\n",
       "      <td>771</td>\n",
       "      <td>62.0</td>\n",
       "      <td>172.125.226.175</td>\n",
       "    </tr>\n",
       "    <tr>\n",
       "      <th>2020-11-02 16:48:18</th>\n",
       "      <td>javascript-i/coffee-project</td>\n",
       "      <td>771</td>\n",
       "      <td>62.0</td>\n",
       "      <td>172.125.226.175</td>\n",
       "    </tr>\n",
       "    <tr>\n",
       "      <th>2020-11-02 16:48:28</th>\n",
       "      <td>javascript-i/bom-and-dom/bom</td>\n",
       "      <td>771</td>\n",
       "      <td>62.0</td>\n",
       "      <td>172.125.226.175</td>\n",
       "    </tr>\n",
       "    <tr>\n",
       "      <th>2020-11-02 16:48:47</th>\n",
       "      <td>javascript-i/bom-and-dom/bom</td>\n",
       "      <td>763</td>\n",
       "      <td>62.0</td>\n",
       "      <td>107.192.148.199</td>\n",
       "    </tr>\n",
       "  </tbody>\n",
       "</table>\n",
       "<p>719459 rows × 4 columns</p>\n",
       "</div>"
      ],
      "text/plain": [
       "                                             page_viewed  user_id  cohort_id  \\\n",
       "2018-01-26 09:55:03                                    /        1        8.0   \n",
       "2018-01-26 09:56:02                              java-ii        1        8.0   \n",
       "2018-01-26 09:56:05  java-ii/object-oriented-programming        1        8.0   \n",
       "2018-01-26 09:56:06   slides/object_oriented_programming        1        8.0   \n",
       "2018-01-26 09:56:24            javascript-i/conditionals        2       22.0   \n",
       "...                                                  ...      ...        ...   \n",
       "2020-11-02 16:48:13          javascript-i/coffee-project      763       62.0   \n",
       "2020-11-02 16:48:17              javascript-i/mapbox-api      771       62.0   \n",
       "2020-11-02 16:48:18          javascript-i/coffee-project      771       62.0   \n",
       "2020-11-02 16:48:28         javascript-i/bom-and-dom/bom      771       62.0   \n",
       "2020-11-02 16:48:47         javascript-i/bom-and-dom/bom      763       62.0   \n",
       "\n",
       "                                  ip  \n",
       "2018-01-26 09:55:03     97.105.19.61  \n",
       "2018-01-26 09:56:02     97.105.19.61  \n",
       "2018-01-26 09:56:05     97.105.19.61  \n",
       "2018-01-26 09:56:06     97.105.19.61  \n",
       "2018-01-26 09:56:24     97.105.19.61  \n",
       "...                              ...  \n",
       "2020-11-02 16:48:13  107.192.148.199  \n",
       "2020-11-02 16:48:17  172.125.226.175  \n",
       "2020-11-02 16:48:18  172.125.226.175  \n",
       "2020-11-02 16:48:28  172.125.226.175  \n",
       "2020-11-02 16:48:47  107.192.148.199  \n",
       "\n",
       "[719459 rows x 4 columns]"
      ]
     },
     "execution_count": 6,
     "metadata": {},
     "output_type": "execute_result"
    }
   ],
   "source": [
    "df"
   ]
  },
  {
   "cell_type": "code",
   "execution_count": 7,
   "metadata": {},
   "outputs": [
    {
     "data": {
      "text/plain": [
       "array([[<matplotlib.axes._subplots.AxesSubplot object at 0x7f8d303cb950>,\n",
       "        <matplotlib.axes._subplots.AxesSubplot object at 0x7f8d3034ae90>]],\n",
       "      dtype=object)"
      ]
     },
     "execution_count": 7,
     "metadata": {},
     "output_type": "execute_result"
    },
    {
     "data": {
      "image/png": "[encoded data removed]",
      "text/plain": [
       "<Figure size 432x288 with 2 Axes>"
      ]
     },
     "metadata": {
      "needs_background": "light"
     },
     "output_type": "display_data"
    }
   ],
   "source": [
    "df.hist()"
   ]
  },
  {
   "cell_type": "markdown",
   "metadata": {},
   "source": [
    "# Discover users who are accessing our curriculum pages way beyond the end of their codeup time. What would the dataframe look like? Use time series method for detecting anomalies, like exponential moving average with %b."
   ]
  },
  {
   "cell_type": "markdown",
   "metadata": {},
   "source": [
    "### Note: 44,840 observations have no cohort id, all have a user_id"
   ]
  },
  {
   "cell_type": "code",
   "execution_count": 8,
   "metadata": {},
   "outputs": [],
   "source": [
    "df['cohort_id'] = df.cohort_id.fillna(0)"
   ]
  },
  {
   "cell_type": "code",
   "execution_count": 9,
   "metadata": {},
   "outputs": [],
   "source": [
    "df_0 = df[df.cohort_id == 0]"
   ]
  },
  {
   "cell_type": "code",
   "execution_count": 10,
   "metadata": {},
   "outputs": [
    {
     "data": {
      "text/plain": [
       "DatetimeIndex(['2018-01-26 16:46:16', '2018-01-26 16:46:24',\n",
       "               '2018-01-26 17:54:24', '2018-01-26 18:32:03',\n",
       "               '2018-01-26 18:32:17', '2018-01-26 18:32:33',\n",
       "               '2018-01-26 18:32:37', '2018-01-26 18:32:43',\n",
       "               '2018-01-26 18:32:47', '2018-01-26 18:33:07',\n",
       "               ...\n",
       "               '2020-11-02 15:47:37', '2020-11-02 15:48:20',\n",
       "               '2020-11-02 15:50:50', '2020-11-02 15:59:28',\n",
       "               '2020-11-02 15:59:31', '2020-11-02 16:02:22',\n",
       "               '2020-11-02 16:02:26', '2020-11-02 16:03:50',\n",
       "               '2020-11-02 16:04:18', '2020-11-02 16:30:49'],\n",
       "              dtype='datetime64[ns]', length=44840, freq=None)"
      ]
     },
     "execution_count": 10,
     "metadata": {},
     "output_type": "execute_result"
    }
   ],
   "source": [
    "# index range same as original df\n",
    "df_0.index"
   ]
  },
  {
   "cell_type": "code",
   "execution_count": 11,
   "metadata": {},
   "outputs": [
    {
     "name": "stdout",
     "output_type": "stream",
     "text": [
      "page_viewed\n",
      "/                                                           4048\n",
      "search/search_index.json                                    1791\n",
      "javascript-i                                                 639\n",
      "toc                                                          605\n",
      "html-css                                                     425\n",
      "                                                            ... \n",
      "content/php_iv/php-with-mysql/gitbook/images/favicon.ico       1\n",
      "capstone-workbook/sw-project-planning                          1\n",
      "content/laravel/more-features/readme.html                      1\n",
      "Python_Libraries                                               1\n",
      "2-stats/4.3-sampling                                           1\n",
      "Name: page_viewed, Length: 1042, dtype: int64 \n",
      "\n",
      "user_id\n",
      "354    2965\n",
      "363    2248\n",
      "368    2085\n",
      "349    1663\n",
      "716    1656\n",
      "       ... \n",
      "744       5\n",
      "62        4\n",
      "663       4\n",
      "89        3\n",
      "176       3\n",
      "Name: user_id, Length: 75, dtype: int64 \n",
      "\n",
      "cohort_id\n",
      "0.0    44840\n",
      "Name: cohort_id, dtype: int64 \n",
      "\n",
      "ip\n",
      "97.105.19.58       15931\n",
      "70.117.16.60        1496\n",
      "23.116.170.48       1255\n",
      "70.94.165.107       1242\n",
      "67.11.117.74        1195\n",
      "                   ...  \n",
      "103.208.220.132        1\n",
      "172.58.67.91           1\n",
      "174.207.7.215          1\n",
      "67.10.163.140          1\n",
      "172.58.67.157          1\n",
      "Name: ip, Length: 365, dtype: int64 \n",
      "\n"
     ]
    }
   ],
   "source": [
    "for col in df_0.columns:\n",
    "    print(col)\n",
    "    print(df_0[col].value_counts(),'\\n')"
   ]
  },
  {
   "cell_type": "code",
   "execution_count": 12,
   "metadata": {},
   "outputs": [
    {
     "data": {
      "text/plain": [
       "'97'"
      ]
     },
     "execution_count": 12,
     "metadata": {},
     "output_type": "execute_result"
    }
   ],
   "source": [
    "df.ip.str.split(\".\")[0][0]"
   ]
  },
  {
   "cell_type": "code",
   "execution_count": 15,
   "metadata": {},
   "outputs": [],
   "source": [
    "df_0[\"ip_int\"] = df_0.ip.str.replace(\".\",\"\")"
   ]
  },
  {
   "cell_type": "code",
   "execution_count": 16,
   "metadata": {},
   "outputs": [
    {
     "data": {
      "text/html": [
       "<div>\n",
       "<style scoped>\n",
       "    .dataframe tbody tr th:only-of-type {\n",
       "        vertical-align: middle;\n",
       "    }\n",
       "\n",
       "    .dataframe tbody tr th {\n",
       "        vertical-align: top;\n",
       "    }\n",
       "\n",
       "    .dataframe thead th {\n",
       "        text-align: right;\n",
       "    }\n",
       "</style>\n",
       "<table border=\"1\" class=\"dataframe\">\n",
       "  <thead>\n",
       "    <tr style=\"text-align: right;\">\n",
       "      <th></th>\n",
       "      <th>user_id</th>\n",
       "      <th>cohort_id</th>\n",
       "    </tr>\n",
       "  </thead>\n",
       "  <tbody>\n",
       "    <tr>\n",
       "      <th>2018-01-26 16:46:16</th>\n",
       "      <td>NaN</td>\n",
       "      <td>NaN</td>\n",
       "    </tr>\n",
       "    <tr>\n",
       "      <th>2018-01-26 16:46:24</th>\n",
       "      <td>NaN</td>\n",
       "      <td>NaN</td>\n",
       "    </tr>\n",
       "    <tr>\n",
       "      <th>2018-01-26 17:54:24</th>\n",
       "      <td>NaN</td>\n",
       "      <td>NaN</td>\n",
       "    </tr>\n",
       "    <tr>\n",
       "      <th>2018-01-26 18:32:03</th>\n",
       "      <td>NaN</td>\n",
       "      <td>NaN</td>\n",
       "    </tr>\n",
       "    <tr>\n",
       "      <th>2018-01-26 18:32:17</th>\n",
       "      <td>NaN</td>\n",
       "      <td>NaN</td>\n",
       "    </tr>\n",
       "    <tr>\n",
       "      <th>...</th>\n",
       "      <td>...</td>\n",
       "      <td>...</td>\n",
       "    </tr>\n",
       "    <tr>\n",
       "      <th>2020-11-02 16:02:22</th>\n",
       "      <td>727.833333</td>\n",
       "      <td>0.0</td>\n",
       "    </tr>\n",
       "    <tr>\n",
       "      <th>2020-11-02 16:02:26</th>\n",
       "      <td>727.750000</td>\n",
       "      <td>0.0</td>\n",
       "    </tr>\n",
       "    <tr>\n",
       "      <th>2020-11-02 16:03:50</th>\n",
       "      <td>723.166667</td>\n",
       "      <td>0.0</td>\n",
       "    </tr>\n",
       "    <tr>\n",
       "      <th>2020-11-02 16:04:18</th>\n",
       "      <td>723.750000</td>\n",
       "      <td>0.0</td>\n",
       "    </tr>\n",
       "    <tr>\n",
       "      <th>2020-11-02 16:30:49</th>\n",
       "      <td>723.583333</td>\n",
       "      <td>0.0</td>\n",
       "    </tr>\n",
       "  </tbody>\n",
       "</table>\n",
       "<p>44840 rows × 2 columns</p>\n",
       "</div>"
      ],
      "text/plain": [
       "                        user_id  cohort_id\n",
       "2018-01-26 16:46:16         NaN        NaN\n",
       "2018-01-26 16:46:24         NaN        NaN\n",
       "2018-01-26 17:54:24         NaN        NaN\n",
       "2018-01-26 18:32:03         NaN        NaN\n",
       "2018-01-26 18:32:17         NaN        NaN\n",
       "...                         ...        ...\n",
       "2020-11-02 16:02:22  727.833333        0.0\n",
       "2020-11-02 16:02:26  727.750000        0.0\n",
       "2020-11-02 16:03:50  723.166667        0.0\n",
       "2020-11-02 16:04:18  723.750000        0.0\n",
       "2020-11-02 16:30:49  723.583333        0.0\n",
       "\n",
       "[44840 rows x 2 columns]"
      ]
     },
     "execution_count": 16,
     "metadata": {},
     "output_type": "execute_result"
    }
   ],
   "source": [
    "# Calculating the short-window simple moving average\n",
    "#short_rolling = \n",
    "\n",
    "df_0.rolling(window=12).mean()"
   ]
  },
  {
   "cell_type": "markdown",
   "metadata": {},
   "source": [
    "# Bonus: Can you label students who are viewing both the web dev and data science curriculum? Can you label students by the program they are in? Can you label users by student vs. staff? What are Zach, Maggie, Faith, and Ryan's ids?"
   ]
  },
  {
   "cell_type": "code",
   "execution_count": 17,
   "metadata": {},
   "outputs": [
    {
     "data": {
      "text/plain": [
       "Text(0, 0.5, 'count of page accesses')"
      ]
     },
     "execution_count": 17,
     "metadata": {},
     "output_type": "execute_result"
    },
    {
     "data": {
      "image/png": "[encoded data removed]",
      "text/plain": [
       "<Figure size 432x288 with 1 Axes>"
      ]
     },
     "metadata": {
      "needs_background": "light"
     },
     "output_type": "display_data"
    }
   ],
   "source": [
    "plt.hist(df_0.user_id)\n",
    "plt.title(\"Histogram of User Id Observations (Page Access) in Cohort Nan\")\n",
    "plt.xlabel('user id')\n",
    "plt.ylabel('count of page accesses')"
   ]
  },
  {
   "cell_type": "code",
   "execution_count": 18,
   "metadata": {},
   "outputs": [
    {
     "data": {
      "text/plain": [
       "0    354\n",
       "dtype: int64"
      ]
     },
     "execution_count": 18,
     "metadata": {},
     "output_type": "execute_result"
    }
   ],
   "source": [
    "df_0.user_id.mode()"
   ]
  },
  {
   "cell_type": "code",
   "execution_count": 19,
   "metadata": {},
   "outputs": [
    {
     "name": "stdout",
     "output_type": "stream",
     "text": [
      "user_id: 354 has the most page views at: 2965\n"
     ]
    }
   ],
   "source": [
    "print('user_id:', df_0.groupby('user_id')['ip'].size().idxmax(), 'has the most page views at:',df_0.groupby('user_id')['ip'].size().max())"
   ]
  },
  {
   "cell_type": "code",
   "execution_count": 20,
   "metadata": {},
   "outputs": [
    {
     "data": {
      "text/html": [
       "<div>\n",
       "<style scoped>\n",
       "    .dataframe tbody tr th:only-of-type {\n",
       "        vertical-align: middle;\n",
       "    }\n",
       "\n",
       "    .dataframe tbody tr th {\n",
       "        vertical-align: top;\n",
       "    }\n",
       "\n",
       "    .dataframe thead th {\n",
       "        text-align: right;\n",
       "    }\n",
       "</style>\n",
       "<table border=\"1\" class=\"dataframe\">\n",
       "  <thead>\n",
       "    <tr style=\"text-align: right;\">\n",
       "      <th></th>\n",
       "      <th>page_viewed</th>\n",
       "      <th>user_id</th>\n",
       "      <th>cohort_id</th>\n",
       "      <th>ip</th>\n",
       "      <th>ip_int</th>\n",
       "    </tr>\n",
       "  </thead>\n",
       "  <tbody>\n",
       "    <tr>\n",
       "      <th>2019-02-04 16:44:49</th>\n",
       "      <td>/</td>\n",
       "      <td>354</td>\n",
       "      <td>0.0</td>\n",
       "      <td>97.105.19.58</td>\n",
       "      <td>971051958</td>\n",
       "    </tr>\n",
       "    <tr>\n",
       "      <th>2019-02-04 17:04:26</th>\n",
       "      <td>/</td>\n",
       "      <td>354</td>\n",
       "      <td>0.0</td>\n",
       "      <td>97.105.19.58</td>\n",
       "      <td>971051958</td>\n",
       "    </tr>\n",
       "    <tr>\n",
       "      <th>2019-02-05 08:46:32</th>\n",
       "      <td>/</td>\n",
       "      <td>354</td>\n",
       "      <td>0.0</td>\n",
       "      <td>97.105.19.58</td>\n",
       "      <td>971051958</td>\n",
       "    </tr>\n",
       "    <tr>\n",
       "      <th>2019-02-05 09:20:34</th>\n",
       "      <td>3.0-mysql-overview</td>\n",
       "      <td>354</td>\n",
       "      <td>0.0</td>\n",
       "      <td>97.105.19.58</td>\n",
       "      <td>971051958</td>\n",
       "    </tr>\n",
       "    <tr>\n",
       "      <th>2019-02-05 09:20:51</th>\n",
       "      <td>1._Fundamentals</td>\n",
       "      <td>354</td>\n",
       "      <td>0.0</td>\n",
       "      <td>97.105.19.58</td>\n",
       "      <td>971051958</td>\n",
       "    </tr>\n",
       "    <tr>\n",
       "      <th>...</th>\n",
       "      <td>...</td>\n",
       "      <td>...</td>\n",
       "      <td>...</td>\n",
       "      <td>...</td>\n",
       "      <td>...</td>\n",
       "    </tr>\n",
       "    <tr>\n",
       "      <th>2020-10-20 10:46:16</th>\n",
       "      <td>python/imports</td>\n",
       "      <td>354</td>\n",
       "      <td>0.0</td>\n",
       "      <td>173.172.170.236</td>\n",
       "      <td>173172170236</td>\n",
       "    </tr>\n",
       "    <tr>\n",
       "      <th>2020-10-20 10:47:10</th>\n",
       "      <td>python/overview</td>\n",
       "      <td>354</td>\n",
       "      <td>0.0</td>\n",
       "      <td>173.172.170.236</td>\n",
       "      <td>173172170236</td>\n",
       "    </tr>\n",
       "    <tr>\n",
       "      <th>2020-10-20 10:47:15</th>\n",
       "      <td>python/introduction-to-python</td>\n",
       "      <td>354</td>\n",
       "      <td>0.0</td>\n",
       "      <td>173.172.170.236</td>\n",
       "      <td>173172170236</td>\n",
       "    </tr>\n",
       "    <tr>\n",
       "      <th>2020-10-20 10:47:23</th>\n",
       "      <td>python/data-types-and-variables</td>\n",
       "      <td>354</td>\n",
       "      <td>0.0</td>\n",
       "      <td>173.172.170.236</td>\n",
       "      <td>173172170236</td>\n",
       "    </tr>\n",
       "    <tr>\n",
       "      <th>2020-10-20 10:47:40</th>\n",
       "      <td>python/control-structures</td>\n",
       "      <td>354</td>\n",
       "      <td>0.0</td>\n",
       "      <td>173.172.170.236</td>\n",
       "      <td>173172170236</td>\n",
       "    </tr>\n",
       "  </tbody>\n",
       "</table>\n",
       "<p>2965 rows × 5 columns</p>\n",
       "</div>"
      ],
      "text/plain": [
       "                                         page_viewed  user_id  cohort_id  \\\n",
       "2019-02-04 16:44:49                                /      354        0.0   \n",
       "2019-02-04 17:04:26                                /      354        0.0   \n",
       "2019-02-05 08:46:32                                /      354        0.0   \n",
       "2019-02-05 09:20:34               3.0-mysql-overview      354        0.0   \n",
       "2019-02-05 09:20:51                  1._Fundamentals      354        0.0   \n",
       "...                                              ...      ...        ...   \n",
       "2020-10-20 10:46:16                   python/imports      354        0.0   \n",
       "2020-10-20 10:47:10                  python/overview      354        0.0   \n",
       "2020-10-20 10:47:15    python/introduction-to-python      354        0.0   \n",
       "2020-10-20 10:47:23  python/data-types-and-variables      354        0.0   \n",
       "2020-10-20 10:47:40        python/control-structures      354        0.0   \n",
       "\n",
       "                                  ip        ip_int  \n",
       "2019-02-04 16:44:49     97.105.19.58     971051958  \n",
       "2019-02-04 17:04:26     97.105.19.58     971051958  \n",
       "2019-02-05 08:46:32     97.105.19.58     971051958  \n",
       "2019-02-05 09:20:34     97.105.19.58     971051958  \n",
       "2019-02-05 09:20:51     97.105.19.58     971051958  \n",
       "...                              ...           ...  \n",
       "2020-10-20 10:46:16  173.172.170.236  173172170236  \n",
       "2020-10-20 10:47:10  173.172.170.236  173172170236  \n",
       "2020-10-20 10:47:15  173.172.170.236  173172170236  \n",
       "2020-10-20 10:47:23  173.172.170.236  173172170236  \n",
       "2020-10-20 10:47:40  173.172.170.236  173172170236  \n",
       "\n",
       "[2965 rows x 5 columns]"
      ]
     },
     "execution_count": 20,
     "metadata": {},
     "output_type": "execute_result"
    }
   ],
   "source": [
    "df_0[df_0.user_id == 354]"
   ]
  },
  {
   "cell_type": "code",
   "execution_count": 21,
   "metadata": {},
   "outputs": [
    {
     "data": {
      "text/plain": [
       "<matplotlib.axes._subplots.AxesSubplot at 0x7f8d2d59eed0>"
      ]
     },
     "execution_count": 21,
     "metadata": {},
     "output_type": "execute_result"
    },
    {
     "data": {
      "image/png": "[encoded data removed]",
      "text/plain": [
       "<Figure size 432x288 with 1 Axes>"
      ]
     },
     "metadata": {
      "needs_background": "light"
     },
     "output_type": "display_data"
    }
   ],
   "source": [
    "df_0[df_0.user_id == 354].ip.resample('M').count().plot()"
   ]
  },
  {
   "cell_type": "markdown",
   "metadata": {},
   "source": [
    "## First user with no cohort id is 48, has observations from whole range of original df\n",
    "- possibly lives next to Scates Park, San Antonio, TX 78209"
   ]
  },
  {
   "cell_type": "code",
   "execution_count": 22,
   "metadata": {},
   "outputs": [
    {
     "data": {
      "text/plain": [
       "user_id\n",
       "48     1581\n",
       "54      146\n",
       "58      462\n",
       "59       42\n",
       "61      816\n",
       "       ... \n",
       "729     461\n",
       "731     528\n",
       "736    1278\n",
       "744       5\n",
       "782     167\n",
       "Name: ip, Length: 75, dtype: int64"
      ]
     },
     "execution_count": 22,
     "metadata": {},
     "output_type": "execute_result"
    }
   ],
   "source": [
    "df_0.groupby('user_id')['ip'].size()"
   ]
  },
  {
   "cell_type": "code",
   "execution_count": 23,
   "metadata": {
    "scrolled": false
   },
   "outputs": [
    {
     "data": {
      "text/html": [
       "<div>\n",
       "<style scoped>\n",
       "    .dataframe tbody tr th:only-of-type {\n",
       "        vertical-align: middle;\n",
       "    }\n",
       "\n",
       "    .dataframe tbody tr th {\n",
       "        vertical-align: top;\n",
       "    }\n",
       "\n",
       "    .dataframe thead th {\n",
       "        text-align: right;\n",
       "    }\n",
       "</style>\n",
       "<table border=\"1\" class=\"dataframe\">\n",
       "  <thead>\n",
       "    <tr style=\"text-align: right;\">\n",
       "      <th></th>\n",
       "      <th>page_viewed</th>\n",
       "      <th>user_id</th>\n",
       "      <th>cohort_id</th>\n",
       "      <th>ip</th>\n",
       "      <th>ip_int</th>\n",
       "    </tr>\n",
       "  </thead>\n",
       "  <tbody>\n",
       "    <tr>\n",
       "      <th>2018-01-26 16:46:16</th>\n",
       "      <td>/</td>\n",
       "      <td>48</td>\n",
       "      <td>0.0</td>\n",
       "      <td>97.105.19.61</td>\n",
       "      <td>971051961</td>\n",
       "    </tr>\n",
       "    <tr>\n",
       "      <th>2018-01-26 16:46:24</th>\n",
       "      <td>spring/extra-features/form-validation</td>\n",
       "      <td>48</td>\n",
       "      <td>0.0</td>\n",
       "      <td>97.105.19.61</td>\n",
       "      <td>971051961</td>\n",
       "    </tr>\n",
       "    <tr>\n",
       "      <th>2018-01-26 17:54:24</th>\n",
       "      <td>/</td>\n",
       "      <td>48</td>\n",
       "      <td>0.0</td>\n",
       "      <td>97.105.19.61</td>\n",
       "      <td>971051961</td>\n",
       "    </tr>\n",
       "    <tr>\n",
       "      <th>2018-01-26 18:32:03</th>\n",
       "      <td>/</td>\n",
       "      <td>48</td>\n",
       "      <td>0.0</td>\n",
       "      <td>97.105.19.61</td>\n",
       "      <td>971051961</td>\n",
       "    </tr>\n",
       "    <tr>\n",
       "      <th>2018-01-26 18:32:17</th>\n",
       "      <td>mysql/relationships/joins</td>\n",
       "      <td>48</td>\n",
       "      <td>0.0</td>\n",
       "      <td>97.105.19.61</td>\n",
       "      <td>971051961</td>\n",
       "    </tr>\n",
       "    <tr>\n",
       "      <th>...</th>\n",
       "      <td>...</td>\n",
       "      <td>...</td>\n",
       "      <td>...</td>\n",
       "      <td>...</td>\n",
       "      <td>...</td>\n",
       "    </tr>\n",
       "    <tr>\n",
       "      <th>2020-04-08 16:42:09</th>\n",
       "      <td>javascript-i/introduction/primitive-types</td>\n",
       "      <td>48</td>\n",
       "      <td>0.0</td>\n",
       "      <td>216.177.189.26</td>\n",
       "      <td>21617718926</td>\n",
       "    </tr>\n",
       "    <tr>\n",
       "      <th>2020-05-28 10:14:25</th>\n",
       "      <td>/</td>\n",
       "      <td>48</td>\n",
       "      <td>0.0</td>\n",
       "      <td>216.177.189.26</td>\n",
       "      <td>21617718926</td>\n",
       "    </tr>\n",
       "    <tr>\n",
       "      <th>2020-05-28 10:14:30</th>\n",
       "      <td>jquery</td>\n",
       "      <td>48</td>\n",
       "      <td>0.0</td>\n",
       "      <td>216.177.189.26</td>\n",
       "      <td>21617718926</td>\n",
       "    </tr>\n",
       "    <tr>\n",
       "      <th>2020-05-28 10:14:31</th>\n",
       "      <td>javascript-i</td>\n",
       "      <td>48</td>\n",
       "      <td>0.0</td>\n",
       "      <td>216.177.189.26</td>\n",
       "      <td>21617718926</td>\n",
       "    </tr>\n",
       "    <tr>\n",
       "      <th>2020-05-28 10:14:34</th>\n",
       "      <td>javascript-i/mapbox-api</td>\n",
       "      <td>48</td>\n",
       "      <td>0.0</td>\n",
       "      <td>216.177.189.26</td>\n",
       "      <td>21617718926</td>\n",
       "    </tr>\n",
       "  </tbody>\n",
       "</table>\n",
       "<p>1581 rows × 5 columns</p>\n",
       "</div>"
      ],
      "text/plain": [
       "                                                   page_viewed  user_id  \\\n",
       "2018-01-26 16:46:16                                          /       48   \n",
       "2018-01-26 16:46:24      spring/extra-features/form-validation       48   \n",
       "2018-01-26 17:54:24                                          /       48   \n",
       "2018-01-26 18:32:03                                          /       48   \n",
       "2018-01-26 18:32:17                  mysql/relationships/joins       48   \n",
       "...                                                        ...      ...   \n",
       "2020-04-08 16:42:09  javascript-i/introduction/primitive-types       48   \n",
       "2020-05-28 10:14:25                                          /       48   \n",
       "2020-05-28 10:14:30                                     jquery       48   \n",
       "2020-05-28 10:14:31                               javascript-i       48   \n",
       "2020-05-28 10:14:34                    javascript-i/mapbox-api       48   \n",
       "\n",
       "                     cohort_id              ip       ip_int  \n",
       "2018-01-26 16:46:16        0.0    97.105.19.61    971051961  \n",
       "2018-01-26 16:46:24        0.0    97.105.19.61    971051961  \n",
       "2018-01-26 17:54:24        0.0    97.105.19.61    971051961  \n",
       "2018-01-26 18:32:03        0.0    97.105.19.61    971051961  \n",
       "2018-01-26 18:32:17        0.0    97.105.19.61    971051961  \n",
       "...                        ...             ...          ...  \n",
       "2020-04-08 16:42:09        0.0  216.177.189.26  21617718926  \n",
       "2020-05-28 10:14:25        0.0  216.177.189.26  21617718926  \n",
       "2020-05-28 10:14:30        0.0  216.177.189.26  21617718926  \n",
       "2020-05-28 10:14:31        0.0  216.177.189.26  21617718926  \n",
       "2020-05-28 10:14:34        0.0  216.177.189.26  21617718926  \n",
       "\n",
       "[1581 rows x 5 columns]"
      ]
     },
     "execution_count": 23,
     "metadata": {},
     "output_type": "execute_result"
    }
   ],
   "source": [
    "df_0[df_0.user_id == 48]"
   ]
  },
  {
   "cell_type": "code",
   "execution_count": 24,
   "metadata": {},
   "outputs": [
    {
     "data": {
      "text/plain": [
       "<matplotlib.axes._subplots.AxesSubplot at 0x7f8d12f14950>"
      ]
     },
     "execution_count": 24,
     "metadata": {},
     "output_type": "execute_result"
    },
    {
     "data": {
      "image/png": "[encoded data removed]",
      "text/plain": [
       "<Figure size 432x288 with 1 Axes>"
      ]
     },
     "metadata": {
      "needs_background": "light"
     },
     "output_type": "display_data"
    }
   ],
   "source": [
    "df_0[df_0.user_id == 48].ip.resample('M').count().plot()"
   ]
  },
  {
   "cell_type": "code",
   "execution_count": 25,
   "metadata": {},
   "outputs": [
    {
     "data": {
      "text/plain": [
       "/                      115\n",
       "javascript-i            52\n",
       "java-ii                 52\n",
       "java-iii                40\n",
       "html-css                40\n",
       "jquery                  38\n",
       "spring                  33\n",
       "javascript-ii           30\n",
       "mysql                   26\n",
       "java-ii/collections     25\n",
       "Name: page_viewed, dtype: int64"
      ]
     },
     "execution_count": 25,
     "metadata": {},
     "output_type": "execute_result"
    }
   ],
   "source": [
    "df_0[df_0.user_id == 48].page_viewed.value_counts().head(10)"
   ]
  },
  {
   "cell_type": "code",
   "execution_count": 26,
   "metadata": {},
   "outputs": [
    {
     "data": {
      "text/plain": [
       "search/search_index.json        485\n",
       "/                               313\n",
       "Intro_to_Regression_Module       82\n",
       "4.6.3_introduction_to_pandas     72\n",
       "3.0-mysql-overview               39\n",
       "Regression_Python                38\n",
       "6_Exercises                      36\n",
       "4.1_introduction                 31\n",
       "6.4_Prep                         31\n",
       "4.2_data_types_and_variables     30\n",
       "Name: page_viewed, dtype: int64"
      ]
     },
     "execution_count": 26,
     "metadata": {},
     "output_type": "execute_result"
    }
   ],
   "source": [
    "df_0[df_0.user_id == 354].page_viewed.value_counts().head(10)"
   ]
  },
  {
   "cell_type": "code",
   "execution_count": 27,
   "metadata": {},
   "outputs": [
    {
     "data": {
      "text/plain": [
       "66.69.62.219      934\n",
       "216.177.189.26    394\n",
       "97.105.19.61      175\n",
       "99.181.55.111      55\n",
       "136.62.15.120      16\n",
       "206.121.139.66      7\n",
       "Name: ip, dtype: int64"
      ]
     },
     "execution_count": 27,
     "metadata": {},
     "output_type": "execute_result"
    }
   ],
   "source": [
    "df_0[df_0.user_id == 48].ip.value_counts()"
   ]
  },
  {
   "cell_type": "code",
   "execution_count": 28,
   "metadata": {},
   "outputs": [
    {
     "data": {
      "text/plain": [
       "97.105.19.58       2065\n",
       "45.23.250.16        741\n",
       "192.171.117.210      81\n",
       "173.172.170.236      24\n",
       "70.114.4.43          23\n",
       "23.116.219.97        19\n",
       "97.77.169.2           5\n",
       "107.77.218.198        3\n",
       "192.67.54.12          1\n",
       "107.77.219.34         1\n",
       "107.77.218.225        1\n",
       "68.201.199.176        1\n",
       "Name: ip, dtype: int64"
      ]
     },
     "execution_count": 28,
     "metadata": {},
     "output_type": "execute_result"
    }
   ],
   "source": [
    "df_0[df_0.user_id == 354].ip.value_counts()"
   ]
  },
  {
   "cell_type": "markdown",
   "metadata": {},
   "source": [
    "## Could it be Terrell? Graduated Febuary 2018 which could explain the drop in activity after April\n",
    "- seems to view web dev pages for first user id\n",
    "- user 48 and 354 used nearly the same ip, which both are near a house \n",
    "    - 97.105.19.61 and 97.105.19.58\n",
    "    - change in Spectrum modem? Idk how ip's work\n",
    "- could the second id be for viewing DS curriculum\n",
    "- https://alumni.codeup.com/?cohort_id=23\n",
    "- note: the url on alumni page does have a cohort id for each cohort, but I believe this is not an accurate association as the df goes from 1 to 62, and the most recent web page shows 42\n",
    "- could the first 20 cohort ids be employees?"
   ]
  },
  {
   "cell_type": "code",
   "execution_count": 29,
   "metadata": {},
   "outputs": [],
   "source": [
    "ip_location = pd.DataFrame(df_0.ip.value_counts().head(3))"
   ]
  },
  {
   "cell_type": "code",
   "execution_count": 30,
   "metadata": {},
   "outputs": [
    {
     "data": {
      "text/html": [
       "<div>\n",
       "<style scoped>\n",
       "    .dataframe tbody tr th:only-of-type {\n",
       "        vertical-align: middle;\n",
       "    }\n",
       "\n",
       "    .dataframe tbody tr th {\n",
       "        vertical-align: top;\n",
       "    }\n",
       "\n",
       "    .dataframe thead th {\n",
       "        text-align: right;\n",
       "    }\n",
       "</style>\n",
       "<table border=\"1\" class=\"dataframe\">\n",
       "  <thead>\n",
       "    <tr style=\"text-align: right;\">\n",
       "      <th></th>\n",
       "      <th>ip</th>\n",
       "    </tr>\n",
       "  </thead>\n",
       "  <tbody>\n",
       "    <tr>\n",
       "      <th>97.105.19.58</th>\n",
       "      <td>15931</td>\n",
       "    </tr>\n",
       "    <tr>\n",
       "      <th>70.117.16.60</th>\n",
       "      <td>1496</td>\n",
       "    </tr>\n",
       "    <tr>\n",
       "      <th>23.116.170.48</th>\n",
       "      <td>1255</td>\n",
       "    </tr>\n",
       "  </tbody>\n",
       "</table>\n",
       "</div>"
      ],
      "text/plain": [
       "                  ip\n",
       "97.105.19.58   15931\n",
       "70.117.16.60    1496\n",
       "23.116.170.48   1255"
      ]
     },
     "execution_count": 30,
     "metadata": {},
     "output_type": "execute_result"
    }
   ],
   "source": [
    "ip_location"
   ]
  },
  {
   "cell_type": "code",
   "execution_count": 31,
   "metadata": {},
   "outputs": [],
   "source": [
    "ip_location['location'] = ['house by park, S.A', 'neighborhood, S.A','neighborhood, Cibolo']"
   ]
  },
  {
   "cell_type": "code",
   "execution_count": 32,
   "metadata": {},
   "outputs": [
    {
     "data": {
      "text/html": [
       "<div>\n",
       "<style scoped>\n",
       "    .dataframe tbody tr th:only-of-type {\n",
       "        vertical-align: middle;\n",
       "    }\n",
       "\n",
       "    .dataframe tbody tr th {\n",
       "        vertical-align: top;\n",
       "    }\n",
       "\n",
       "    .dataframe thead th {\n",
       "        text-align: right;\n",
       "    }\n",
       "</style>\n",
       "<table border=\"1\" class=\"dataframe\">\n",
       "  <thead>\n",
       "    <tr style=\"text-align: right;\">\n",
       "      <th></th>\n",
       "      <th>ip</th>\n",
       "      <th>location</th>\n",
       "    </tr>\n",
       "  </thead>\n",
       "  <tbody>\n",
       "    <tr>\n",
       "      <th>97.105.19.58</th>\n",
       "      <td>15931</td>\n",
       "      <td>house by park, S.A</td>\n",
       "    </tr>\n",
       "    <tr>\n",
       "      <th>70.117.16.60</th>\n",
       "      <td>1496</td>\n",
       "      <td>neighborhood, S.A</td>\n",
       "    </tr>\n",
       "    <tr>\n",
       "      <th>23.116.170.48</th>\n",
       "      <td>1255</td>\n",
       "      <td>neighborhood, Cibolo</td>\n",
       "    </tr>\n",
       "  </tbody>\n",
       "</table>\n",
       "</div>"
      ],
      "text/plain": [
       "                  ip              location\n",
       "97.105.19.58   15931    house by park, S.A\n",
       "70.117.16.60    1496     neighborhood, S.A\n",
       "23.116.170.48   1255  neighborhood, Cibolo"
      ]
     },
     "execution_count": 32,
     "metadata": {},
     "output_type": "execute_result"
    }
   ],
   "source": [
    "ip_location"
   ]
  },
  {
   "cell_type": "code",
   "execution_count": null,
   "metadata": {},
   "outputs": [],
   "source": []
  }
 ],
 "metadata": {
  "kernelspec": {
   "display_name": "Python 3",
   "language": "python",
   "name": "python3"
  },
  "language_info": {
   "codemirror_mode": {
    "name": "ipython",
    "version": 3
   },
   "file_extension": ".py",
   "mimetype": "text/x-python",
   "name": "python",
   "nbconvert_exporter": "python",
   "pygments_lexer": "ipython3",
   "version": "3.7.6"
  }
 },
 "nbformat": 4,
 "nbformat_minor": 4
}
