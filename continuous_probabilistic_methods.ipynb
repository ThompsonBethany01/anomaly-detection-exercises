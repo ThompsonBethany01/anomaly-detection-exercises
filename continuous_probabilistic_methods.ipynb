{
 "cells": [
  {
   "cell_type": "code",
   "execution_count": 3,
   "metadata": {},
   "outputs": [],
   "source": [
    "import pandas as pd\n",
    "import numpy as np\n",
    "import seaborn as sns\n",
    "import matplotlib.pyplot as plt"
   ]
  },
  {
   "cell_type": "markdown",
   "metadata": {},
   "source": [
    "## Define a function named get_lower_and_upper_bounds that has two arguments. The first argument is a pandas Series. The second argument is the multiplier, which should have a default argument of 1.5."
   ]
  },
  {
   "cell_type": "code",
   "execution_count": 46,
   "metadata": {},
   "outputs": [],
   "source": [
    "def get_lower_and_upper_bounds(df_col, multiplier=1.5):\n",
    "    '''\n",
    "    Uses IQR*multiplier formular to determine value for upper and lower\n",
    "    outliers. Returns lower_bound and upper_bound.\n",
    "    '''\n",
    "    # determine first and third quartile of column\n",
    "    Q1 = df_col.quantile(.25)\n",
    "    Q3 = df_col.quantile(.75)\n",
    "    # calculate inner quartile range\n",
    "    IQR = Q3 - Q1\n",
    "    \n",
    "    # calculate bounds for outliers\n",
    "    lower_bound = Q1 - (IQR * multiplier)\n",
    "    upper_bound = Q3 + (IQR * multiplier)\n",
    "    \n",
    "    return lower_bound, upper_bound"
   ]
  },
  {
   "cell_type": "markdown",
   "metadata": {},
   "source": [
    "## Using lemonade.csv dataset and focusing on continuous variables:"
   ]
  },
  {
   "cell_type": "code",
   "execution_count": 6,
   "metadata": {},
   "outputs": [],
   "source": [
    "df = pd.read_csv(\"https://gist.githubusercontent.com/ryanorsinger/19bc7eccd6279661bd13307026628ace/raw/e4b5d6787015a4782f96cad6d1d62a8bdbac54c7/lemonade.csv\", index_col=0)"
   ]
  },
  {
   "cell_type": "code",
   "execution_count": 18,
   "metadata": {},
   "outputs": [
    {
     "data": {
      "text/html": [
       "<div>\n",
       "<style scoped>\n",
       "    .dataframe tbody tr th:only-of-type {\n",
       "        vertical-align: middle;\n",
       "    }\n",
       "\n",
       "    .dataframe tbody tr th {\n",
       "        vertical-align: top;\n",
       "    }\n",
       "\n",
       "    .dataframe thead th {\n",
       "        text-align: right;\n",
       "    }\n",
       "</style>\n",
       "<table border=\"1\" class=\"dataframe\">\n",
       "  <thead>\n",
       "    <tr style=\"text-align: right;\">\n",
       "      <th></th>\n",
       "      <th>Day</th>\n",
       "      <th>Temperature</th>\n",
       "      <th>Rainfall</th>\n",
       "      <th>Flyers</th>\n",
       "      <th>Price</th>\n",
       "      <th>Sales</th>\n",
       "    </tr>\n",
       "    <tr>\n",
       "      <th>Date</th>\n",
       "      <th></th>\n",
       "      <th></th>\n",
       "      <th></th>\n",
       "      <th></th>\n",
       "      <th></th>\n",
       "      <th></th>\n",
       "    </tr>\n",
       "  </thead>\n",
       "  <tbody>\n",
       "    <tr>\n",
       "      <th>1/1/17</th>\n",
       "      <td>Sunday</td>\n",
       "      <td>27.0</td>\n",
       "      <td>2.00</td>\n",
       "      <td>15</td>\n",
       "      <td>0.5</td>\n",
       "      <td>10</td>\n",
       "    </tr>\n",
       "    <tr>\n",
       "      <th>1/2/17</th>\n",
       "      <td>Monday</td>\n",
       "      <td>28.9</td>\n",
       "      <td>1.33</td>\n",
       "      <td>15</td>\n",
       "      <td>0.5</td>\n",
       "      <td>13</td>\n",
       "    </tr>\n",
       "    <tr>\n",
       "      <th>1/3/17</th>\n",
       "      <td>Tuesday</td>\n",
       "      <td>34.5</td>\n",
       "      <td>1.33</td>\n",
       "      <td>27</td>\n",
       "      <td>0.5</td>\n",
       "      <td>15</td>\n",
       "    </tr>\n",
       "    <tr>\n",
       "      <th>1/4/17</th>\n",
       "      <td>Wednesday</td>\n",
       "      <td>44.1</td>\n",
       "      <td>1.05</td>\n",
       "      <td>28</td>\n",
       "      <td>0.5</td>\n",
       "      <td>17</td>\n",
       "    </tr>\n",
       "    <tr>\n",
       "      <th>1/5/17</th>\n",
       "      <td>Thursday</td>\n",
       "      <td>42.4</td>\n",
       "      <td>1.00</td>\n",
       "      <td>33</td>\n",
       "      <td>0.5</td>\n",
       "      <td>18</td>\n",
       "    </tr>\n",
       "  </tbody>\n",
       "</table>\n",
       "</div>"
      ],
      "text/plain": [
       "              Day  Temperature  Rainfall  Flyers  Price  Sales\n",
       "Date                                                          \n",
       "1/1/17     Sunday         27.0      2.00      15    0.5     10\n",
       "1/2/17     Monday         28.9      1.33      15    0.5     13\n",
       "1/3/17    Tuesday         34.5      1.33      27    0.5     15\n",
       "1/4/17  Wednesday         44.1      1.05      28    0.5     17\n",
       "1/5/17   Thursday         42.4      1.00      33    0.5     18"
      ]
     },
     "execution_count": 18,
     "metadata": {},
     "output_type": "execute_result"
    }
   ],
   "source": [
    "df.head()"
   ]
  },
  {
   "cell_type": "code",
   "execution_count": 21,
   "metadata": {},
   "outputs": [],
   "source": [
    "df.index = pd.to_datetime(df.index)"
   ]
  },
  {
   "cell_type": "code",
   "execution_count": 22,
   "metadata": {},
   "outputs": [
    {
     "name": "stdout",
     "output_type": "stream",
     "text": [
      "<class 'pandas.core.frame.DataFrame'>\n",
      "DatetimeIndex: 365 entries, 2017-01-01 to 2017-12-31\n",
      "Data columns (total 6 columns):\n",
      " #   Column       Non-Null Count  Dtype  \n",
      "---  ------       --------------  -----  \n",
      " 0   Day          365 non-null    object \n",
      " 1   Temperature  365 non-null    float64\n",
      " 2   Rainfall     365 non-null    float64\n",
      " 3   Flyers       365 non-null    int64  \n",
      " 4   Price        365 non-null    float64\n",
      " 5   Sales        365 non-null    int64  \n",
      "dtypes: float64(3), int64(2), object(1)\n",
      "memory usage: 20.0+ KB\n"
     ]
    }
   ],
   "source": [
    "df.info()"
   ]
  },
  {
   "cell_type": "markdown",
   "metadata": {},
   "source": [
    "### 1. \n",
    "- Use the IQR Range Rule and the upper and lower bounds to identify the lower outliers of each column of lemonade.csv, using the multiplier of 1.5. Do these lower outliers make sense?Which outliers should be kept?\n",
    "- Use the IQR Range Rule and the upper and lower bounds to identify the upper outliers of each column of lemonade.csv, using the multiplier of 1.5. Do these lower outliers make sense?Which outliers should be kept?"
   ]
  },
  {
   "cell_type": "code",
   "execution_count": 61,
   "metadata": {},
   "outputs": [
    {
     "name": "stdout",
     "output_type": "stream",
     "text": [
      "Temperature\n",
      "lower bound: 16.700000000000003\n",
      "upper_bound: 104.7 \n",
      "\n"
     ]
    },
    {
     "data": {
      "image/png": "[encoded data removed]",
      "text/plain": [
       "<Figure size 432x288 with 1 Axes>"
      ]
     },
     "metadata": {
      "needs_background": "light"
     },
     "output_type": "display_data"
    },
    {
     "name": "stdout",
     "output_type": "stream",
     "text": [
      "Rainfall\n",
      "lower bound: 0.26\n",
      "upper_bound: 1.3 \n",
      "\n"
     ]
    },
    {
     "data": {
      "image/png": "[encoded data removed]",
      "text/plain": [
       "<Figure size 432x288 with 1 Axes>"
      ]
     },
     "metadata": {
      "needs_background": "light"
     },
     "output_type": "display_data"
    },
    {
     "name": "stdout",
     "output_type": "stream",
     "text": [
      "Flyers\n",
      "lower bound: 4.0\n",
      "upper_bound: 76.0 \n",
      "\n"
     ]
    },
    {
     "data": {
      "image/png": "[encoded data removed]",
      "text/plain": [
       "<Figure size 432x288 with 1 Axes>"
      ]
     },
     "metadata": {
      "needs_background": "light"
     },
     "output_type": "display_data"
    },
    {
     "name": "stdout",
     "output_type": "stream",
     "text": [
      "Price\n",
      "lower bound: 0.5\n",
      "upper_bound: 0.5 \n",
      "\n"
     ]
    },
    {
     "data": {
      "image/png": "[encoded data removed]",
      "text/plain": [
       "<Figure size 432x288 with 1 Axes>"
      ]
     },
     "metadata": {
      "needs_background": "light"
     },
     "output_type": "display_data"
    },
    {
     "name": "stdout",
     "output_type": "stream",
     "text": [
      "Sales\n",
      "lower bound: 5.0\n",
      "upper_bound: 45.0 \n",
      "\n"
     ]
    },
    {
     "data": {
      "image/png": "[encoded data removed]",
      "text/plain": [
       "<Figure size 432x288 with 1 Axes>"
      ]
     },
     "metadata": {
      "needs_background": "light"
     },
     "output_type": "display_data"
    }
   ],
   "source": [
    "for col in df.describe().columns:\n",
    "    \n",
    "    print(col)\n",
    "    lower_bound, upper_bound = get_lower_and_upper_bounds(df[col])\n",
    "    print(\"lower bound:\",lower_bound)\n",
    "    print(\"upper_bound:\",upper_bound,\"\\n\")\n",
    "    plt.hist(df[col])\n",
    "    plt.title(col)\n",
    "    plt.xlabel(col)\n",
    "    plt.ylabel(\"Count\")\n",
    "    plt.show()"
   ]
  },
  {
   "cell_type": "markdown",
   "metadata": {},
   "source": [
    "### Outliers Using 1.5 Rule\n",
    "- temp\n",
    "    - outliers make sense\n",
    "    - temps over 104 would be typos\n",
    "    - there do not appear to be any lower outliers\n",
    "- rain\n",
    "    - does not make sense to have low outliers as long as it is not less than 0\n",
    "    - upper outliers should also be kept, it is possible for it to rain more than average and still be accurate data\n",
    "- flyers\n",
    "    - flyers should not be negative\n",
    "    - would only remove lower\n",
    "- price\n",
    "    - only one price, can probably remove this column, no outliers\n",
    "- sales\n",
    "    - lower outliers do not make sense, upper do with higher multiplier"
   ]
  },
  {
   "cell_type": "markdown",
   "metadata": {},
   "source": [
    "### 2. \n",
    "- Using the multiplier of 3, IQR Range Rule, and the lower and upper bounds, identify the outliers below the lower bound in each colum of lemonade.csv. Do these lower outliers make sense?Which outliers should be kept?\n",
    "- Using the multiplier of 3, IQR Range Rule, and the lower and upper bounds, identify the outliers above the upper_bound in each colum of lemonade.csv. Do these upper outliers make sense? Which outliers should be kept?"
   ]
  },
  {
   "cell_type": "code",
   "execution_count": 62,
   "metadata": {},
   "outputs": [
    {
     "name": "stdout",
     "output_type": "stream",
     "text": [
      "Temperature\n",
      "lower bound: -16.299999999999997\n",
      "upper_bound: 137.7 \n",
      "\n"
     ]
    },
    {
     "data": {
      "image/png": "[encoded data removed]",
      "text/plain": [
       "<Figure size 432x288 with 1 Axes>"
      ]
     },
     "metadata": {
      "needs_background": "light"
     },
     "output_type": "display_data"
    },
    {
     "name": "stdout",
     "output_type": "stream",
     "text": [
      "Rainfall\n",
      "lower bound: -0.13\n",
      "upper_bound: 1.69 \n",
      "\n"
     ]
    },
    {
     "data": {
      "image/png": "[encoded data removed]",
      "text/plain": [
       "<Figure size 432x288 with 1 Axes>"
      ]
     },
     "metadata": {
      "needs_background": "light"
     },
     "output_type": "display_data"
    },
    {
     "name": "stdout",
     "output_type": "stream",
     "text": [
      "Flyers\n",
      "lower bound: -23.0\n",
      "upper_bound: 103.0 \n",
      "\n"
     ]
    },
    {
     "data": {
      "image/png": "[encoded data removed]",
      "text/plain": [
       "<Figure size 432x288 with 1 Axes>"
      ]
     },
     "metadata": {
      "needs_background": "light"
     },
     "output_type": "display_data"
    },
    {
     "name": "stdout",
     "output_type": "stream",
     "text": [
      "Price\n",
      "lower bound: 0.5\n",
      "upper_bound: 0.5 \n",
      "\n"
     ]
    },
    {
     "data": {
      "image/png": "[encoded data removed]",
      "text/plain": [
       "<Figure size 432x288 with 1 Axes>"
      ]
     },
     "metadata": {
      "needs_background": "light"
     },
     "output_type": "display_data"
    },
    {
     "name": "stdout",
     "output_type": "stream",
     "text": [
      "Sales\n",
      "lower bound: -10.0\n",
      "upper_bound: 60.0 \n",
      "\n"
     ]
    },
    {
     "data": {
      "image/png": "[encoded data removed]",
      "text/plain": [
       "<Figure size 432x288 with 1 Axes>"
      ]
     },
     "metadata": {
      "needs_background": "light"
     },
     "output_type": "display_data"
    }
   ],
   "source": [
    "for col in df.describe().columns:\n",
    "    \n",
    "    print(col)\n",
    "    lower_bound, upper_bound = get_lower_and_upper_bounds(df[col], multiplier=3)\n",
    "    print(\"lower bound:\",lower_bound)\n",
    "    print(\"upper_bound:\",upper_bound,\"\\n\")\n",
    "    plt.hist(df[col])\n",
    "    plt.title(col)\n",
    "    plt.xlabel(col)\n",
    "    plt.ylabel(\"Count\")\n",
    "    plt.show()"
   ]
  },
  {
   "cell_type": "markdown",
   "metadata": {},
   "source": [
    "- temp: better with multiplier of 1.5\n",
    "- rainfall: better with multiplier of 3, though I would leave all data points\n",
    "- flyers: would use 0 for lower bound, keep everything else\n",
    "- price: no outliers to remove\n",
    "- sales: would use multiplier of 3 for upper bound, not remove lowers"
   ]
  },
  {
   "cell_type": "markdown",
   "metadata": {},
   "source": [
    "## Identify if any columns in lemonade.csv are normally distributed. For normally distributed columns:\n",
    "- temperature\n",
    "- rainfall\n",
    "- flyers"
   ]
  },
  {
   "cell_type": "code",
   "execution_count": 78,
   "metadata": {},
   "outputs": [],
   "source": [
    "normal = ['Temperature','Rainfall','Flyers']"
   ]
  },
  {
   "cell_type": "markdown",
   "metadata": {},
   "source": [
    "### 1. Use a 2 sigma decision rule to isolate the outliers. Do these make sense?"
   ]
  },
  {
   "cell_type": "code",
   "execution_count": 79,
   "metadata": {},
   "outputs": [],
   "source": [
    "def sigma_outliers(df_col, sigma=2):\n",
    "    \n",
    "    # Calculate the z-score\n",
    "    zscore = abs((df_col.mean()) / (df_col.std()))\n",
    "\n",
    "    # Calculate upper bound\n",
    "    upper_bound = (zscore * sigma) + df_col.mean()\n",
    "    \n",
    "    # Calculate upper bound\n",
    "    lower_bound = df_col.mean() - (zscore * sigma)\n",
    "    \n",
    "    return upper_bound, lower_bound"
   ]
  },
  {
   "cell_type": "code",
   "execution_count": 81,
   "metadata": {},
   "outputs": [
    {
     "name": "stdout",
     "output_type": "stream",
     "text": [
      "Temperature\n",
      "lower bound: 54.45422492031442\n",
      "upper_bound: 67.99509014817882 \n",
      "\n",
      "Rainfall\n",
      "lower bound: -5.205439989806705\n",
      "upper_bound: 6.857385195286159 \n",
      "\n",
      "Flyers\n",
      "lower bound: 34.286205005901834\n",
      "upper_bound: 45.922014172180354 \n",
      "\n"
     ]
    }
   ],
   "source": [
    "for col in normal:\n",
    "    \n",
    "    print(col)\n",
    "    upper_bound, lower_bound = sigma_outliers(df[col])\n",
    "    print(\"lower bound:\",lower_bound)\n",
    "    print(\"upper_bound:\",upper_bound,\"\\n\")"
   ]
  },
  {
   "cell_type": "markdown",
   "metadata": {},
   "source": [
    "### 2. Should certain outliers be kept or removed?"
   ]
  },
  {
   "cell_type": "code",
   "execution_count": null,
   "metadata": {},
   "outputs": [],
   "source": []
  },
  {
   "cell_type": "markdown",
   "metadata": {},
   "source": [
    "### 4. Now use a 3 sigma decision rule to isolate the outliers in the normally distributed columns from lemonade.csv"
   ]
  },
  {
   "cell_type": "code",
   "execution_count": 77,
   "metadata": {},
   "outputs": [
    {
     "name": "stdout",
     "output_type": "stream",
     "text": [
      "Temperature\n",
      "lower bound: 51.069008613348316\n",
      "upper_bound: 71.38030645514492 \n",
      "\n",
      "Rainfall\n",
      "lower bound: -8.221146286079922\n",
      "upper_bound: 9.873091491559375 \n",
      "\n",
      "Flyers\n",
      "lower bound: 31.377252714332208\n",
      "upper_bound: 48.83096646374998 \n",
      "\n",
      "Price\n",
      "lower bound: Nan\n",
      "upper_bound: Nan \n",
      "\n",
      "Sales\n",
      "lower bound: 25.164548055856507\n",
      "upper_bound: 30.56695879345856 \n",
      "\n"
     ]
    }
   ],
   "source": [
    "for col in df.describe().columns:\n",
    "    \n",
    "    print(col)\n",
    "    upper_bound, lower_bound = sigma_outliers(df[col], sigma=3)\n",
    "    print(\"lower bound:\",lower_bound)\n",
    "    print(\"upper_bound:\",upper_bound,\"\\n\")"
   ]
  }
 ],
 "metadata": {
  "kernelspec": {
   "display_name": "Python 3",
   "language": "python",
   "name": "python3"
  },
  "language_info": {
   "codemirror_mode": {
    "name": "ipython",
    "version": 3
   },
   "file_extension": ".py",
   "mimetype": "text/x-python",
   "name": "python",
   "nbconvert_exporter": "python",
   "pygments_lexer": "ipython3",
   "version": "3.7.6"
  }
 },
 "nbformat": 4,
 "nbformat_minor": 4
}
